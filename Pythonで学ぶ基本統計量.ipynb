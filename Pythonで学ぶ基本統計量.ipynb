{
  "nbformat": 4,
  "nbformat_minor": 0,
  "metadata": {
    "colab": {
      "provenance": [],
      "authorship_tag": "ABX9TyM+kyo5BgTga25ftZbLBUyZ",
      "include_colab_link": true
    },
    "kernelspec": {
      "name": "python3",
      "display_name": "Python 3"
    },
    "language_info": {
      "name": "python"
    }
  },
  "cells": [
    {
      "cell_type": "markdown",
      "metadata": {
        "id": "view-in-github",
        "colab_type": "text"
      },
      "source": [
        "<a href=\"https://colab.research.google.com/github/tomnyancat/Studying-Statistics-Basic-Statistics01/blob/main/Python%E3%81%A7%E5%AD%A6%E3%81%B6%E5%9F%BA%E6%9C%AC%E7%B5%B1%E8%A8%88%E9%87%8F.ipynb\" target=\"_parent\"><img src=\"https://colab.research.google.com/assets/colab-badge.svg\" alt=\"Open In Colab\"/></a>"
      ]
    },
    {
      "cell_type": "markdown",
      "source": [
        "https://pandas.pydata.org/\n",
        "\n",
        "> pandas is a fast, powerful, flexible and easy to use open source data analysis and manipulation tool,\n",
        "built on top of the Python programming language.\n",
        "\n",
        "つまり「Python上でデータ分析と操作を便利にする万能ツール」\n",
        "\n",
        "pandas を pd というエイリアスでインポートするのは、コミュニティとしても標準的で、pandas のドキュメントでもそういう作法になっている。"
      ],
      "metadata": {
        "id": "cc-xze1lkNdu"
      }
    },
    {
      "cell_type": "code",
      "source": [
        "import pandas as pd\n",
        "\n",
        "# サンプルデータ\n",
        "data = pd.DataFrame({\n",
        "    '数学':[70,85,90,60,75],\n",
        "    '英語':[80,75,85,70,90]\n",
        "})\n",
        "\n",
        "# 表を確認\n",
        "print(data)"
      ],
      "metadata": {
        "colab": {
          "base_uri": "https://localhost:8080/"
        },
        "id": "iGZdkD-WkOk5",
        "outputId": "164a30ac-1504-4374-c4ef-96519daa5865"
      },
      "execution_count": null,
      "outputs": [
        {
          "output_type": "stream",
          "name": "stdout",
          "text": [
            "   数学  英語\n",
            "0  70  80\n",
            "1  85  75\n",
            "2  90  85\n",
            "3  60  70\n",
            "4  75  90\n"
          ]
        }
      ]
    },
    {
      "cell_type": "markdown",
      "source": [
        "`pd.DataFrame()`\n",
        "\n",
        "pandasの初歩的なデータ構造。見出しも含んでくれるのが便利。1次元データ（Series objects）を列名で管理する辞書みたいな入れ物。\n",
        "\n",
        "DataFrame は1次元データを列名（キー）でまとめて管理しているだけ\n",
        "\n",
        "見た目は表（2次元）だけど、中身は「列ごとに1次元データを管理している辞書みたいな構造」\n",
        "\n",
        "# pandas のすごいところ\n",
        "\n",
        "- 列ごとに1次元（Series）で管理 → 列単位の計算・加工が超簡単\n",
        "- 列名がキーの辞書みたいな扱い → どの列でも自由にアクセスできる\n",
        "- 見た目は表（2次元） → 人間が直感的に理解しやすい\n",
        "\n",
        "# 気づいたこと\n",
        "\n",
        "- すごい！\n",
        "- dataframeに入れておいたら、数学だけのデータも考えられるし、変数名を指定しなかったら、このdataframeに入れた全部の平均とか分散とかが出せる\n",
        "- つまり、ばらばらのデータセットをがんばって結合しなくても、dataframeに入れておけば済む\n",
        "\n",
        "\n",
        "| コマンド                 | 表示する範囲      | 使いどころ               |\n",
        "| -------------------- | ----------- | ------------------- |\n",
        "| `print(data)`        | 全部          | データが少ないとき、全部確認したいとき |\n",
        "| `print(data.head())` | 先頭5行（デフォルト） | データが多いとき、ざっと確認したいとき。引数で数値を指定すると先頭◯行になる |\n"
      ],
      "metadata": {
        "id": "ylKL1m_vlCFC"
      }
    },
    {
      "cell_type": "code",
      "source": [
        "import pandas as pd\n",
        "import numpy as np\n",
        "from scipy.stats import mode # 最頻値を正確に出すためscipyを使う\n",
        "\n",
        "# サンプルデータ\n",
        "data = pd.DataFrame({\n",
        "    '数学':[70,85,90,60,75],\n",
        "    '英語':[80,75,85,70,90]\n",
        "})\n",
        "\n",
        "# 表を確認\n",
        "print(\"表:\\n\", data, \"\\n\")\n",
        "\n",
        "print(\"----------それぞれ----------\\n\")\n",
        "print(\"平均:\\n\",data.mean(), \"\\n\")\n",
        "print(\"中央値:\\n\",data.median(), \"\\n\")\n",
        "print(\"最頻値:\\n\",data.mode(), \"\\n\")\n",
        "print(\"分散:\\n\", data.var(), \"\\n\")\n",
        "print(\"標準偏差:\\n\", data.std(), \"\\n\")\n",
        "\n",
        "print(\"----------mode() が表で返ってくるのを再確認---------\\n\")\n",
        "\n",
        "print(\"最頻値:\\n\",data.mode(), \"\\n\")\n",
        "\n",
        "print(\"---------- もし、最頻値が複数ではなく1つだったら mode() はちゃんと数値を1だけ返してくるのか？ ---------\\n\")\n",
        "\n",
        "# サンプルデータ 最頻値チェック\n",
        "dataModeCheck = pd.DataFrame({\n",
        "    '数学':[70,85,90,90,90,60,75],\n",
        "    '英語':[80,75,85,85,85,70,90]\n",
        "})\n",
        "\n",
        "print(\"最頻値:\\n\",dataModeCheck.mode(), \"\\n\")\n",
        "\n",
        "print(\"----------全部----------\\n\")\n",
        "# 結合したい列を選択し、NumPy配列に変換してから1次元に平坦化（flatten）\n",
        "# flatten()を使わなくてもNumPyは処理してくれるが、flatten()を使うことで、私は今、この複数の列のデータを、すべてひっくるめて一つの長いリスト（1次元）として扱いますよ」という意図を、コードと自分自身に明確に示せる\n",
        "combined_scores = data[['数学', '英語']].values.flatten()\n",
        "\n",
        "# 結合されたデータ: [70, 85, 90, 60, 75, 80, 75, 85, 70, 90]\n",
        "print(f\"結合されたスコア (10個): {combined_scores}\", \"\\n\")\n",
        "\n",
        "print(\"平均:\\n\", np.mean(combined_scores), \"\\n\")\n",
        "print(\"中央値:\\n\", np.median(combined_scores), \"\\n\")\n",
        "\n",
        "# AttributeError: module 'numpy' has no attribute 'mode' つまり、NumPy で最頻値を出す方法がない\n",
        "# print(\"最頻値:\\n\", np.mode(combined_scores), \"\\n\")\n",
        "\n",
        "#NumPyは最頻値の計算を直接サポートしていないので、SciPyという別のライブラリから機能を持ってきて使う\n",
        "mode_result = mode(combined_scores)\n",
        "print(\"最頻値:\\n\", mode_result.mode, \"(出現回数：\", mode_result.count , \"回）\\n\")\n",
        "\n",
        "# 標本分散ではなく、不偏分散（推定）に統一する\n",
        "print(\"分散:\\n\", np.var(combined_scores, ddof=1), \"\\n\")\n",
        "print(\"標準偏差:\\n\", np.std(combined_scores), \"\\n\")\n"
      ],
      "metadata": {
        "colab": {
          "base_uri": "https://localhost:8080/"
        },
        "id": "5a5D_drZnbTG",
        "outputId": "fd276c6a-e0a6-4541-ffe0-920ed3eb7831"
      },
      "execution_count": 4,
      "outputs": [
        {
          "output_type": "stream",
          "name": "stdout",
          "text": [
            "表:\n",
            "    数学  英語\n",
            "0  70  80\n",
            "1  85  75\n",
            "2  90  85\n",
            "3  60  70\n",
            "4  75  90 \n",
            "\n",
            "----------それぞれ----------\n",
            "\n",
            "平均:\n",
            " 数学    76.0\n",
            "英語    80.0\n",
            "dtype: float64 \n",
            "\n",
            "中央値:\n",
            " 数学    75.0\n",
            "英語    80.0\n",
            "dtype: float64 \n",
            "\n",
            "最頻値:\n",
            "    数学  英語\n",
            "0  60  70\n",
            "1  70  75\n",
            "2  75  80\n",
            "3  85  85\n",
            "4  90  90 \n",
            "\n",
            "分散:\n",
            " 数学    142.5\n",
            "英語     62.5\n",
            "dtype: float64 \n",
            "\n",
            "標準偏差:\n",
            " 数学    11.937336\n",
            "英語     7.905694\n",
            "dtype: float64 \n",
            "\n",
            "----------mode() が表で返ってくるのを再確認---------\n",
            "\n",
            "最頻値:\n",
            "    数学  英語\n",
            "0  60  70\n",
            "1  70  75\n",
            "2  75  80\n",
            "3  85  85\n",
            "4  90  90 \n",
            "\n",
            "---------- もし、最頻値が複数ではなく1つだったら mode() はちゃんと数値を1だけ返してくるのか？ ---------\n",
            "\n",
            "最頻値:\n",
            "    数学  英語\n",
            "0  90  85 \n",
            "\n",
            "----------全部----------\n",
            "\n",
            "結合されたスコア (10個): [70 80 85 75 90 85 60 70 75 90] \n",
            "\n",
            "平均:\n",
            " 78.0 \n",
            "\n",
            "中央値:\n",
            " 77.5 \n",
            "\n",
            "最頻値:\n",
            " 70 (出現回数： 2 回）\n",
            "\n",
            "分散:\n",
            " 95.55555555555556 \n",
            "\n",
            "標準偏差:\n",
            " 9.273618495495704 \n",
            "\n"
          ]
        }
      ]
    },
    {
      "cell_type": "markdown",
      "source": [
        "- 列名を指定しなかったらちゃんと全部の列のデータをそれぞれ出してくれる\n",
        "- とりあえず見たいデータをDataFrameにいれて、基本統計量を指定すればサクッと見られる\n",
        "- pandas で最頻値を出そうとすると、mean()やmedian()と違って表で返ってくる\n",
        "- ググってみたが、私のやりたいことは、concat、merge、join でもないような……？\n",
        "- Gemini に聞いてみたら、NumPy を使うように勧められた\n",
        "- Pandas で結合も最頻値もできるらしいのだが、NumPyを使うことを勧める理由は、Pythonにおける統計計算の「基礎」であり、処理速度の速さにおいて優れているからとのこと\n",
        "\n",
        "# Pandas といっしょにインポートした NumPyってなんだ？\n",
        "\n",
        "> Powerful N-dimensional arrays\n",
        "Fast and versatile, the NumPy vectorization, indexing, and broadcasting concepts are the de-facto standards of array computing today.\n",
        "\n",
        "> Numerical computing tools\n",
        "NumPy offers comprehensive mathematical functions, random number generators, linear algebra routines, Fourier transforms, and more.\n",
        "> https://numpy.org/\n",
        "\n",
        "- 力強いN次元の配列……？Nが指定できちゃうのか……未知。\n",
        "- フーリエ変換とか言ってる\n",
        "- つまり、NumPy は今の私ではわからない高度な数学を扱っているライブラリ\n",
        "- NumPy の分散は標本分散。データサイエンスや統計分析だと推定することのほうがメインだから、Pandasのデフォルト設定（不偏分散）に合わせた\n",
        "\n",
        "**メモ**\n",
        "- 不偏分散 (推定用)：引数 ddof=1\n",
        "- 標本分散 (事実確認用):ddof=0"
      ],
      "metadata": {
        "id": "AlB3u-c6uQul"
      }
    },
    {
      "cell_type": "markdown",
      "source": [
        "# 分析\n",
        "\n",
        "- 英語のほうが成績がいい\n",
        "- 英語は数学に比べてばらつきが少なく、誰もが似たような点数を取っている\n",
        "- 数学は点数がばらついていて、人によって落差が大きい\n",
        "- 英語も数学も中央値と平均値に差がないので、グラフにすれば歪んでおらず、左右対称なグラフになると思われる\n"
      ],
      "metadata": {
        "id": "I3zulENnzWj4"
      }
    },
    {
      "cell_type": "markdown",
      "source": [
        "# ここで学んだこと\n",
        "\n",
        "- 2乗すると数字がめちゃくちゃ大きくなる時がある。まるで虫眼鏡で拡大してそれをよくよく見る感じに似ている。つまり、数字が大きくなって強調されるとそこにこのデータセットを見るときのなにかがあるんだなっていうのがわかりやすくなる\n",
        "- その強調したものを、ルートを被せてシュッともとに戻す（元の単位にする）とわかりやすくなった状態で情報を確認できる\n",
        "- ばらつきが大きいってことは、分析したものが安定していないということで、例えばあるクラスで数学の点数が落ち着いていないということは教師目線で考えるとその章の授業とかがわかりにくかったのかもしれないとか思うだろうし、あるファーストフード店のポテトの重量だったとしたら、マニュアルに沿って作業してないんじゃないか？なんでだろう？とかを考える材料になる\n",
        "\n",
        "\n",
        "# 感想\n",
        "\n",
        "- はじめてColabを使ったが、コードとテキストをねぎまみたいにできて便利だった\n",
        "- 教科書だと、分散とかの定理の式を学ぶけど、Colabとか使うと、そういうのわからなくても数字が出ちゃうのがいいとこでもあり悪いところでもある\n",
        "- 電卓を叩いて、分散を出してみないと2乗したときの雰囲気とか意味がわからないから、どこまで練習して、どこまでコンピューターで計算させて数字を見てみるか切り分けるかが難しい\n",
        "\n",
        "\n",
        "# Gemini からのアドバイス\n",
        "\n",
        "## フェーズ 1: 概念理解\n",
        "\n",
        "式の意味と数字の雰囲気を体感する。\n",
        "手動計算 (電卓)\tデータ数が10〜20個程度の小規模なサンプルで、分散・標準偏差を1回は手計算する。\n",
        "\n",
        "## フェーズ 2: 実装の確認\n",
        "\n",
        "手計算の結果とコードの結果が一致するか確認する。\n",
        "コード (NumPy/pandas)\t手計算を終えたら、その答え合わせとしてコードを使う。\n",
        "\n",
        "## フェーズ 3: 分析の実践\n",
        "\n",
        "大量のデータで、統計量が何を語っているかを解釈する。\n",
        "コード (NumPy/pandas)\t以降の学習や実務では、速度と効率のためすべてコードで計算し、結果の解釈に集中する。\n",
        "\n",
        "\n",
        "- 今回のあなたの学習は、まさにフェーズ1と2をクリアし、フェーズ3に進む準備が整った状態です。\n",
        "- 「このデータの分散が大きいのはなぜか？」「なぜ平均と中央値がずれているのか？」という解釈と考察にエネルギーを注ぐのが、データサイエンティストへの最も早い道"
      ],
      "metadata": {
        "id": "9JC9pzKQ2Y6h"
      }
    },
    {
      "cell_type": "markdown",
      "source": [
        "# pandas と numPy の分散をくらべる"
      ],
      "metadata": {
        "id": "2Gxj7xreh6xt"
      }
    },
    {
      "cell_type": "code",
      "source": [
        "import pandas as pd\n",
        "import numpy as np\n",
        "\n",
        "# サンプルデータ\n",
        "data = pd.DataFrame({\n",
        "    '数学':[70,85,90,60,75],\n",
        "    '英語':[80,75,85,70,90]\n",
        "})\n",
        "\n",
        "\n",
        "scores_math = data['数学'].values # NumPy配列として数学のスコアを取り出す\n",
        "\n",
        "print(\"1. pandasのデフォルト (不偏分散, 分母 n-1=4):\")\n",
        "print(\"数学:\", data['数学'].var())\n",
        "\n",
        "print(\"\\n2. NumPyのデフォルト (標本分散, 分母 n=5):\")\n",
        "print(\"数学:\", np.var(scores_math))\n"
      ],
      "metadata": {
        "colab": {
          "base_uri": "https://localhost:8080/"
        },
        "id": "_zqPKL-ahvtJ",
        "outputId": "59717a3f-ef1d-4265-c8a8-66e274f924f7"
      },
      "execution_count": null,
      "outputs": [
        {
          "output_type": "stream",
          "name": "stdout",
          "text": [
            "1. pandasのデフォルト (不偏分散, 分母 n-1=4):\n",
            "数学: 142.5\n",
            "\n",
            "2. NumPyのデフォルト (標本分散, 分母 n=5):\n",
            "数学: 114.0\n"
          ]
        }
      ]
    },
    {
      "cell_type": "markdown",
      "source": [
        "\n",
        "- 分散を出すときには、母集団を扱っているのか標本を扱っているのかで、pandasで出して良いのか、numPyで出していいのか、あるいは引数をちゃんと設定するのを気をつけなきゃいけない\n",
        "- どちらのツールを使うにしても、ddof=1（自由度補正）を意識すれば、意図しない計算を防げる\n",
        "- つまり、NumPyは実際の測定値とか手元のデータを使うことが多い科学技術分野をメインの対象にしているからデフォルトが標本分散、pandasはそもそも立ち位置がデータ分析用だから不偏分散をデフォルトにしているっぽい"
      ],
      "metadata": {
        "id": "vhjwchR3jdE1"
      }
    },
    {
      "cell_type": "markdown",
      "source": [
        "# 標本分散が小さくなる理由\n",
        "\n",
        "- 母集団のばらつきを推定するとき、単なる標本分散（n で割る方）を使うと、必ず過小評価されることが数学的に証明されている。\n",
        "- この「過小評価」の偏りを補正するために、n−1 で割って値を割り増しし、推定の精度を上げる。\n",
        "- 母集団のばらつきを推定したい場合は、不偏分散を使う\n",
        "- 手元の標本のばらつきの事実を知りたいときは、標本分散でいい\n",
        "\n",
        "# n-1 にする理由\n",
        "\n",
        "- 不偏分散は標本から母集団の分散を推定しようとしている\n",
        "- nをつかうと、小さく評価されてしまうことはわかっている\n",
        "- n-1にすると、nにしたときに比べ、割る数を減らしていることになるから、結果が大きくなる"
      ],
      "metadata": {
        "id": "3_HoNQ3RkSyq"
      }
    }
  ]
}